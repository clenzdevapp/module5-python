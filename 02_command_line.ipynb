{
 "cells": [
  {
   "cell_type": "code",
   "execution_count": 29,
   "metadata": {},
   "outputs": [
    {
     "name": "stdout",
     "output_type": "stream",
     "text": [
      " Datentr�ger in Laufwerk C: ist Windows\n",
      " Volumeseriennummer: 1463-B270\n",
      "\n",
      " Verzeichnis von C:\\Users\\Work\\Desktop\\Firma Maca\\07 Workshops\\11 WBS-Training\\01 Workshops\\02 Python\\Modul 5_DS\\98 Sandbox\\git\\bootcamp\n",
      "\n",
      "22.05.2023  13:05    <DIR>          .\n",
      "22.05.2023  13:05    <DIR>          ..\n",
      "22.05.2023  13:05    <DIR>          .git\n",
      "27.04.2023  14:17                25 .gitignore\n",
      "27.04.2023  14:17             1.050 bioinfo_dicts.py\n",
      "22.05.2023  13:05    <DIR>          command_line_tutorial\n",
      "22.05.2023  13:05    <DIR>          data\n",
      "22.05.2023  13:05    <DIR>          misc\n",
      "22.05.2023  13:05    <DIR>          modules\n",
      "27.04.2023  14:17             1.007 na_utils.py\n",
      "27.04.2023  14:17               653 README.md\n",
      "               4 Datei(en),          2.735 Bytes\n",
      "               7 Verzeichnis(se), 35.454.238.720 Bytes frei\n"
     ]
    }
   ],
   "source": [
    "%ls"
   ]
  },
  {
   "cell_type": "code",
   "execution_count": 30,
   "metadata": {},
   "outputs": [
    {
     "name": "stdout",
     "output_type": "stream",
     "text": [
      "C:\\Users\\Work\\Desktop\\Firma Maca\\07 Workshops\\11 WBS-Training\\01 Workshops\\02 Python\\Modul 5_DS\\98 Sandbox\n"
     ]
    }
   ],
   "source": [
    "%cd C:\\Users\\Work\\Desktop\\Firma Maca\\07 Workshops\\11 WBS-Training\\01 Workshops\\02 Python\\Modul 5_DS\\98 Sandbox"
   ]
  },
  {
   "cell_type": "code",
   "execution_count": 31,
   "metadata": {},
   "outputs": [
    {
     "data": {
      "text/plain": [
       "'C:\\\\Users\\\\Work\\\\Desktop\\\\Firma Maca\\\\07 Workshops\\\\11 WBS-Training\\\\01 Workshops\\\\02 Python\\\\Modul 5_DS\\\\98 Sandbox'"
      ]
     },
     "execution_count": 31,
     "metadata": {},
     "output_type": "execute_result"
    }
   ],
   "source": [
    "%pwd"
   ]
  },
  {
   "cell_type": "code",
   "execution_count": 32,
   "metadata": {},
   "outputs": [],
   "source": [
    "# pwd\n",
    "# cd\n",
    "# ls\n",
    "# mkdir\n",
    "# rmdir\n",
    "#less | more\n",
    "# cat\n",
    "# head\n",
    "# cp\n",
    "# rm\n",
    "# git commit -m \"Changed file name of some_sequence.fasta.\"\n",
    "# git push origin master"
   ]
  }
 ],
 "metadata": {
  "kernelspec": {
   "display_name": "Python 3",
   "language": "python",
   "name": "python3"
  },
  "language_info": {
   "codemirror_mode": {
    "name": "ipython",
    "version": 3
   },
   "file_extension": ".py",
   "mimetype": "text/x-python",
   "name": "python",
   "nbconvert_exporter": "python",
   "pygments_lexer": "ipython3",
   "version": "3.11.1 (tags/v3.11.1:a7a450f, Dec  6 2022, 19:58:39) [MSC v.1934 64 bit (AMD64)]"
  },
  "orig_nbformat": 4,
  "vscode": {
   "interpreter": {
    "hash": "8f3160b9f2a551ce90ccc7026cb49d07d18e13e4aea35536aea04f9df48ed40f"
   }
  }
 },
 "nbformat": 4,
 "nbformat_minor": 2
}
