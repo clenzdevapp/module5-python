{
 "cells": [
  {
   "cell_type": "code",
   "execution_count": null,
   "metadata": {},
   "outputs": [],
   "source": [
    "from na_utils import dna_to_rna, reverse_rna_complement\n",
    "seq = 'GACGATCTAGGCGACCGACTGGCATCG'\n",
    "\n",
    "dna_to_rna(seq)\n",
    "reverse_rna_complement(seq)\n"
   ]
  },
  {
   "cell_type": "code",
   "execution_count": 1,
   "metadata": {},
   "outputs": [
    {
     "data": {
      "text/plain": [
       "'HEADER    ANTI-ONCOGENE                           13-JUN-94   1OLG'"
      ]
     },
     "execution_count": 1,
     "metadata": {},
     "output_type": "execute_result"
    }
   ],
   "source": [
    "with open(\"git/bootcamp/data/1OLG.pdb\",\"r\") as f:\n",
    "    f_list = f.readlines()\n",
    "    \n",
    "f_list[0].rstrip()"
   ]
  },
  {
   "cell_type": "code",
   "execution_count": 2,
   "metadata": {},
   "outputs": [
    {
     "name": "stdout",
     "output_type": "stream",
     "text": [
      "HEADER    ANTI-ONCOGENE                           13-JUN-94   1OLG\n",
      "TITLE     HIGH-RESOLUTION SOLUTION STRUCTURE OF THE OLIGOMERIZATION\n",
      "TITLE    2 DOMAIN OF P53 BY MULTI-DIMENSIONAL NMR\n",
      "COMPND    MOL_ID: 1;\n",
      "COMPND   2 MOLECULE: TUMOR SUPPRESSOR P53 (OLIGOMERIZATION DOMAIN);\n",
      "COMPND   3 CHAIN: A, B, C, D;\n",
      "COMPND   4 ENGINEERED: YES\n",
      "SOURCE    MOL_ID: 1;\n",
      "SOURCE   2 ORGANISM_SCIENTIFIC: HOMO SAPIENS;\n",
      "SOURCE   3 ORGANISM_COMMON: HUMAN;\n"
     ]
    }
   ],
   "source": [
    "with open(\"git/bootcamp/data/1OLG.pdb\", \"r\") as f:\n",
    "    i = 0\n",
    "    while i < 10:\n",
    "        print(f.readline().rstrip())\n",
    "        i += 1\n"
   ]
  },
  {
   "cell_type": "code",
   "execution_count": 8,
   "metadata": {},
   "outputs": [
    {
     "data": {
      "text/plain": [
       "'c:\\\\Users\\\\Work\\\\Desktop\\\\Firma Maca\\\\07 Workshops\\\\11 WBS-Training\\\\01 Workshops\\\\02 Python\\\\Modul 5_DS\\\\98 Sandbox\\\\01_tutorial_datascience'"
      ]
     },
     "execution_count": 8,
     "metadata": {},
     "output_type": "execute_result"
    }
   ],
   "source": [
    "import os\n",
    "if os.path.isfile(\"mastery.txt\"):\n",
    "    raise RuntimeError(\"File mastery.txt already exists\")\n",
    "%pwd"
   ]
  },
  {
   "cell_type": "code",
   "execution_count": 13,
   "metadata": {},
   "outputs": [
    {
     "name": "stdout",
     "output_type": "stream",
     "text": [
      "This is my file.There are many like it, but this one is mine.I must master my file like I must master my life.\n"
     ]
    }
   ],
   "source": [
    "with open('mastery.txt', 'w') as f:\n",
    "    f.write('This is my file.')\n",
    "    f.write('There are many like it, but this one is mine.')\n",
    "    f.write('I must master my file like I must master my life.')\n",
    "    \n",
    "!cat mastery.txt"
   ]
  },
  {
   "cell_type": "code",
   "execution_count": 19,
   "metadata": {},
   "outputs": [],
   "source": [
    "with open('git/bootcamp/data/1OLG.pdb', 'r') as f, open('git/bootcamp/data/atoms_chain_A.txt', 'w') as f_out:\n",
    "    # Put the ATOM lines from chain A in new file\n",
    "    for line in f:\n",
    "        if len(line) > 21 and line[:4] == 'ATOM' and line[21] == 'A':\n",
    "            f_out.write(line)\n",
    "\n",
    "# PS\n",
    "# head -10 .\\atoms_chain_A.txt\n",
    "# PS\n",
    "# tail -10 .\\atoms_chain_A.txt\n"
   ]
  },
  {
   "cell_type": "code",
   "execution_count": 20,
   "metadata": {},
   "outputs": [
    {
     "name": "stdout",
     "output_type": "stream",
     "text": [
      "ATOM      1  N   LYS A 319      18.634  25.437  10.685  1.00  4.81           N\n",
      "ATOM      2  CA  LYS A 319      17.984  25.295   9.354  1.00  4.32           C\n",
      "ATOM      3  C   LYS A 319      18.160  23.876   8.818  1.00  3.74           C\n",
      "ATOM      4  O   LYS A 319      19.259  23.441   8.537  1.00  3.67           O\n",
      "ATOM      5  CB  LYS A 319      18.609  26.282   8.371  1.00  4.67           C\n",
      "ATOM      6  CG  LYS A 319      18.003  26.056   6.986  1.00  5.15           C\n",
      "ATOM      7  CD  LYS A 319      16.476  26.057   7.091  1.00  5.90           C\n",
      "ATOM      8  CE  LYS A 319      16.014  27.341   7.784  1.00  6.51           C\n",
      "ATOM      9  NZ  LYS A 319      16.388  28.518   6.952  1.00  7.33           N\n",
      "ATOM     10  H1  LYS A 319      18.414  24.606  11.281  1.00  5.09           H\n"
     ]
    }
   ],
   "source": [
    "with open(\"git/bootcamp/data/atoms_chain_A.txt\", \"r\") as f:\n",
    "    i = 0\n",
    "    while i < 10:\n",
    "        print(f.readline().rstrip())\n",
    "        i += 1"
   ]
  },
  {
   "cell_type": "code",
   "execution_count": 21,
   "metadata": {},
   "outputs": [
    {
     "data": {
      "text/plain": [
       "['git/bootcamp/data\\\\1FAG.pdb',\n",
       " 'git/bootcamp/data\\\\1J6Z.pdb',\n",
       " 'git/bootcamp/data\\\\1OLG.pdb',\n",
       " 'git/bootcamp/data\\\\2ERK.pdb']"
      ]
     },
     "execution_count": 21,
     "metadata": {},
     "output_type": "execute_result"
    }
   ],
   "source": [
    "import glob\n",
    "file_list = glob.glob('git/bootcamp/data/*.pdb')\n",
    "\n",
    "file_list\n"
   ]
  },
  {
   "cell_type": "code",
   "execution_count": 22,
   "metadata": {},
   "outputs": [],
   "source": [
    "# Dictionary to hold sequences\n",
    "seqs = {}\n",
    "\n",
    "# Loop through all matching files\n",
    "for file_name in file_list:\n",
    "    # Extract PDB ID\n",
    "    pdb_id = file_name[file_name.find('/')+1:file_name.rfind('.')]\n",
    "\n",
    "    # Initialize sequence string, which we build as we go along\n",
    "    seq = ''\n",
    "    with open(file_name, 'r') as f:\n",
    "        for line in f:\n",
    "            if len(line) > 11 and line[:6] == 'SEQRES' and line[11] == 'A':\n",
    "                seq += line[19:].rstrip() + ' '\n",
    "\n",
    "    # Build sequence with dash-joined three letter codes\n",
    "    seq = '-'.join(seq.split())\n",
    "\n",
    "    # Store in the dictionary\n",
    "    seqs[pdb_id] = seq"
   ]
  },
  {
   "cell_type": "code",
   "execution_count": 23,
   "metadata": {},
   "outputs": [
    {
     "data": {
      "text/plain": [
       "{'bootcamp/data\\\\1FAG': 'THR-ILE-LYS-GLU-MET-PRO-GLN-PRO-LYS-THR-PHE-GLY-GLU-LEU-LYS-ASN-LEU-PRO-LEU-LEU-ASN-THR-ASP-LYS-PRO-VAL-GLN-ALA-LEU-MET-LYS-ILE-ALA-ASP-GLU-LEU-GLY-GLU-ILE-PHE-LYS-PHE-GLU-ALA-PRO-GLY-ARG-VAL-THR-ARG-TYR-LEU-SER-SER-GLN-ARG-LEU-ILE-LYS-GLU-ALA-CYS-ASP-GLU-SER-ARG-PHE-ASP-LYS-ASN-LEU-SER-GLN-ALA-LEU-LYS-PHE-VAL-ARG-ASP-PHE-ALA-GLY-ASP-GLY-LEU-PHE-THR-SER-TRP-THR-HIS-GLU-LYS-ASN-TRP-LYS-LYS-ALA-HIS-ASN-ILE-LEU-LEU-PRO-SER-PHE-SER-GLN-GLN-ALA-MET-LYS-GLY-TYR-HIS-ALA-MET-MET-VAL-ASP-ILE-ALA-VAL-GLN-LEU-VAL-GLN-LYS-TRP-GLU-ARG-LEU-ASN-ALA-ASP-GLU-HIS-ILE-GLU-VAL-PRO-GLU-ASP-MET-THR-ARG-LEU-THR-LEU-ASP-THR-ILE-GLY-LEU-CYS-GLY-PHE-ASN-TYR-ARG-PHE-ASN-SER-PHE-TYR-ARG-ASP-GLN-PRO-HIS-PRO-PHE-ILE-THR-SER-MET-VAL-ARG-ALA-LEU-ASP-GLU-ALA-MET-ASN-LYS-LEU-GLN-ARG-ALA-ASN-PRO-ASP-ASP-PRO-ALA-TYR-ASP-GLU-ASN-LYS-ARG-GLN-PHE-GLN-GLU-ASP-ILE-LYS-VAL-MET-ASN-ASP-LEU-VAL-ASP-LYS-ILE-ILE-ALA-ASP-ARG-LYS-ALA-SER-GLY-GLU-GLN-SER-ASP-ASP-LEU-LEU-THR-HIS-MET-LEU-ASN-GLY-LYS-ASP-PRO-GLU-THR-GLY-GLU-PRO-LEU-ASP-ASP-GLU-ASN-ILE-ARG-TYR-GLN-ILE-ILE-THR-PHE-LEU-ILE-ALA-GLY-HIS-GLU-THR-THR-SER-GLY-LEU-LEU-SER-PHE-ALA-LEU-TYR-PHE-LEU-VAL-LYS-ASN-PRO-HIS-VAL-LEU-GLN-LYS-ALA-ALA-GLU-GLU-ALA-ALA-ARG-VAL-LEU-VAL-ASP-PRO-VAL-PRO-SER-TYR-LYS-GLN-VAL-LYS-GLN-LEU-LYS-TYR-VAL-GLY-MET-VAL-LEU-ASN-GLU-ALA-LEU-ARG-LEU-TRP-PRO-THR-ALA-PRO-ALA-PHE-SER-LEU-TYR-ALA-LYS-GLU-ASP-THR-VAL-LEU-GLY-GLY-GLU-TYR-PRO-LEU-GLU-LYS-GLY-ASP-GLU-LEU-MET-VAL-LEU-ILE-PRO-GLN-LEU-HIS-ARG-ASP-LYS-THR-ILE-TRP-GLY-ASP-ASP-VAL-GLU-GLU-PHE-ARG-PRO-GLU-ARG-PHE-GLU-ASN-PRO-SER-ALA-ILE-PRO-GLN-HIS-ALA-PHE-LYS-PRO-PHE-GLY-ASN-GLY-GLN-ARG-ALA-CYS-ILE-GLY-GLN-GLN-PHE-ALA-LEU-HIS-GLU-ALA-THR-LEU-VAL-LEU-GLY-MET-MET-LEU-LYS-HIS-PHE-ASP-PHE-GLU-ASP-HIS-THR-ASN-TYR-GLU-LEU-ASP-ILE-LYS-GLU-THR-LEU-THR-LEU-LYS-PRO-GLU-GLY-PHE-VAL-VAL-LYS-ALA-LYS-SER-LYS-LYS-ILE-PRO-LEU-GLY-GLY-ILE-PRO-SER-PRO-SER-THR-GLU-GLN-SER-ALA-LYS-LYS-VAL-ARG',\n",
       " 'bootcamp/data\\\\1J6Z': 'ASP-GLU-ASP-GLU-THR-THR-ALA-LEU-VAL-CYS-ASP-ASN-GLY-SER-GLY-LEU-VAL-LYS-ALA-GLY-PHE-ALA-GLY-ASP-ASP-ALA-PRO-ARG-ALA-VAL-PHE-PRO-SER-ILE-VAL-GLY-ARG-PRO-ARG-HIS-GLN-GLY-VAL-MET-VAL-GLY-MET-GLY-GLN-LYS-ASP-SER-TYR-VAL-GLY-ASP-GLU-ALA-GLN-SER-LYS-ARG-GLY-ILE-LEU-THR-LEU-LYS-TYR-PRO-ILE-GLU-HIC-GLY-ILE-ILE-THR-ASN-TRP-ASP-ASP-MET-GLU-LYS-ILE-TRP-HIS-HIS-THR-PHE-TYR-ASN-GLU-LEU-ARG-VAL-ALA-PRO-GLU-GLU-HIS-PRO-THR-LEU-LEU-THR-GLU-ALA-PRO-LEU-ASN-PRO-LYS-ALA-ASN-ARG-GLU-LYS-MET-THR-GLN-ILE-MET-PHE-GLU-THR-PHE-ASN-VAL-PRO-ALA-MET-TYR-VAL-ALA-ILE-GLN-ALA-VAL-LEU-SER-LEU-TYR-ALA-SER-GLY-ARG-THR-THR-GLY-ILE-VAL-LEU-ASP-SER-GLY-ASP-GLY-VAL-THR-HIS-ASN-VAL-PRO-ILE-TYR-GLU-GLY-TYR-ALA-LEU-PRO-HIS-ALA-ILE-MET-ARG-LEU-ASP-LEU-ALA-GLY-ARG-ASP-LEU-THR-ASP-TYR-LEU-MET-LYS-ILE-LEU-THR-GLU-ARG-GLY-TYR-SER-PHE-VAL-THR-THR-ALA-GLU-ARG-GLU-ILE-VAL-ARG-ASP-ILE-LYS-GLU-LYS-LEU-CYS-TYR-VAL-ALA-LEU-ASP-PHE-GLU-ASN-GLU-MET-ALA-THR-ALA-ALA-SER-SER-SER-SER-LEU-GLU-LYS-SER-TYR-GLU-LEU-PRO-ASP-GLY-GLN-VAL-ILE-THR-ILE-GLY-ASN-GLU-ARG-PHE-ARG-CYS-PRO-GLU-THR-LEU-PHE-GLN-PRO-SER-PHE-ILE-GLY-MET-GLU-SER-ALA-GLY-ILE-HIS-GLU-THR-THR-TYR-ASN-SER-ILE-MET-LYS-CYS-ASP-ILE-ASP-ILE-ARG-LYS-ASP-LEU-TYR-ALA-ASN-ASN-VAL-MET-SER-GLY-GLY-THR-THR-MET-TYR-PRO-GLY-ILE-ALA-ASP-ARG-MET-GLN-LYS-GLU-ILE-THR-ALA-LEU-ALA-PRO-SER-THR-MET-LYS-ILE-LYS-ILE-ILE-ALA-PRO-PRO-GLU-ARG-LYS-TYR-SER-VAL-TRP-ILE-GLY-GLY-SER-ILE-LEU-ALA-SER-LEU-SER-THR-PHE-GLN-GLN-MET-TRP-ILE-THR-LYS-GLN-GLU-TYR-ASP-GLU-ALA-GLY-PRO-SER-ILE-VAL-HIS-ARG-LYS-CYS-PHE',\n",
       " 'bootcamp/data\\\\1OLG': 'LYS-LYS-LYS-PRO-LEU-ASP-GLY-GLU-TYR-PHE-THR-LEU-GLN-ILE-ARG-GLY-ARG-GLU-ARG-PHE-GLU-MET-PHE-ARG-GLU-LEU-ASN-GLU-ALA-LEU-GLU-LEU-LYS-ASP-ALA-GLN-ALA-GLY-LYS-GLU-PRO-GLY',\n",
       " 'bootcamp/data\\\\2ERK': 'ALA-HIS-HIS-HIS-HIS-HIS-HIS-MET-ALA-ALA-ALA-ALA-ALA-ALA-GLY-PRO-GLU-MET-VAL-ARG-GLY-GLN-VAL-PHE-ASP-VAL-GLY-PRO-ARG-TYR-THR-ASN-LEU-SER-TYR-ILE-GLY-GLU-GLY-ALA-TYR-GLY-MET-VAL-CYS-SER-ALA-TYR-ASP-ASN-LEU-ASN-LYS-VAL-ARG-VAL-ALA-ILE-LYS-LYS-ILE-SER-PRO-PHE-GLU-HIS-GLN-THR-TYR-CYS-GLN-ARG-THR-LEU-ARG-GLU-ILE-LYS-ILE-LEU-LEU-ARG-PHE-ARG-HIS-GLU-ASN-ILE-ILE-GLY-ILE-ASN-ASP-ILE-ILE-ARG-ALA-PRO-THR-ILE-GLU-GLN-MET-LYS-ASP-VAL-TYR-ILE-VAL-GLN-ASP-LEU-MET-GLU-THR-ASP-LEU-TYR-LYS-LEU-LEU-LYS-THR-GLN-HIS-LEU-SER-ASN-ASP-HIS-ILE-CYS-TYR-PHE-LEU-TYR-GLN-ILE-LEU-ARG-GLY-LEU-LYS-TYR-ILE-HIS-SER-ALA-ASN-VAL-LEU-HIS-ARG-ASP-LEU-LYS-PRO-SER-ASN-LEU-LEU-LEU-ASN-THR-THR-CYS-ASP-LEU-LYS-ILE-CYS-ASP-PHE-GLY-LEU-ALA-ARG-VAL-ALA-ASP-PRO-ASP-HIS-ASP-HIS-THR-GLY-PHE-LEU-TPO-GLU-PTR-VAL-ALA-THR-ARG-TRP-TYR-ARG-ALA-PRO-GLU-ILE-MET-LEU-ASN-SER-LYS-GLY-TYR-THR-LYS-SER-ILE-ASP-ILE-TRP-SER-VAL-GLY-CYS-ILE-LEU-ALA-GLU-MET-LEU-SER-ASN-ARG-PRO-ILE-PHE-PRO-GLY-LYS-HIS-TYR-LEU-ASP-GLN-LEU-ASN-HIS-ILE-LEU-GLY-ILE-LEU-GLY-SER-PRO-SER-GLN-GLU-ASP-LEU-ASN-CYS-ILE-ILE-ASN-LEU-LYS-ALA-ARG-ASN-TYR-LEU-LEU-SER-LEU-PRO-HIS-LYS-ASN-LYS-VAL-PRO-TRP-ASN-ARG-LEU-PHE-PRO-ASN-ALA-ASP-SER-LYS-ALA-LEU-ASP-LEU-LEU-ASP-LYS-MET-LEU-THR-PHE-ASN-PRO-HIS-LYS-ARG-ILE-GLU-VAL-GLU-GLN-ALA-LEU-ALA-HIS-PRO-TYR-LEU-GLU-GLN-TYR-TYR-ASP-PRO-SER-ASP-GLU-PRO-ILE-ALA-GLU-ALA-PRO-PHE-LYS-PHE-ASP-MET-GLU-LEU-ASP-ASP-LEU-PRO-LYS-GLU-LYS-LEU-LYS-GLU-LEU-ILE-PHE-GLU-GLU-THR-ALA-ARG-PHE-GLN-PRO-GLY-TYR-ARG-SER'}"
      ]
     },
     "execution_count": 23,
     "metadata": {},
     "output_type": "execute_result"
    }
   ],
   "source": [
    "seqs"
   ]
  },
  {
   "cell_type": "code",
   "execution_count": 26,
   "metadata": {},
   "outputs": [
    {
     "data": {
      "text/plain": [
       "'ASP-GLU-ASP-GLU-THR-THR-ALA-LEU-VAL-CYS-ASP-ASN-GLY-SER-GLY-LEU-VAL-LYS-ALA-GLY-PHE-ALA-GLY-ASP-ASP-ALA-PRO-ARG-ALA-VAL-PHE-PRO-SER-ILE-VAL-GLY-ARG-PRO-ARG-HIS-GLN-GLY-VAL-MET-VAL-GLY-MET-GLY-GLN-LYS-ASP-SER-TYR-VAL-GLY-ASP-GLU-ALA-GLN-SER-LYS-ARG-GLY-ILE-LEU-THR-LEU-LYS-TYR-PRO-ILE-GLU-HIC-GLY-ILE-ILE-THR-ASN-TRP-ASP-ASP-MET-GLU-LYS-ILE-TRP-HIS-HIS-THR-PHE-TYR-ASN-GLU-LEU-ARG-VAL-ALA-PRO-GLU-GLU-HIS-PRO-THR-LEU-LEU-THR-GLU-ALA-PRO-LEU-ASN-PRO-LYS-ALA-ASN-ARG-GLU-LYS-MET-THR-GLN-ILE-MET-PHE-GLU-THR-PHE-ASN-VAL-PRO-ALA-MET-TYR-VAL-ALA-ILE-GLN-ALA-VAL-LEU-SER-LEU-TYR-ALA-SER-GLY-ARG-THR-THR-GLY-ILE-VAL-LEU-ASP-SER-GLY-ASP-GLY-VAL-THR-HIS-ASN-VAL-PRO-ILE-TYR-GLU-GLY-TYR-ALA-LEU-PRO-HIS-ALA-ILE-MET-ARG-LEU-ASP-LEU-ALA-GLY-ARG-ASP-LEU-THR-ASP-TYR-LEU-MET-LYS-ILE-LEU-THR-GLU-ARG-GLY-TYR-SER-PHE-VAL-THR-THR-ALA-GLU-ARG-GLU-ILE-VAL-ARG-ASP-ILE-LYS-GLU-LYS-LEU-CYS-TYR-VAL-ALA-LEU-ASP-PHE-GLU-ASN-GLU-MET-ALA-THR-ALA-ALA-SER-SER-SER-SER-LEU-GLU-LYS-SER-TYR-GLU-LEU-PRO-ASP-GLY-GLN-VAL-ILE-THR-ILE-GLY-ASN-GLU-ARG-PHE-ARG-CYS-PRO-GLU-THR-LEU-PHE-GLN-PRO-SER-PHE-ILE-GLY-MET-GLU-SER-ALA-GLY-ILE-HIS-GLU-THR-THR-TYR-ASN-SER-ILE-MET-LYS-CYS-ASP-ILE-ASP-ILE-ARG-LYS-ASP-LEU-TYR-ALA-ASN-ASN-VAL-MET-SER-GLY-GLY-THR-THR-MET-TYR-PRO-GLY-ILE-ALA-ASP-ARG-MET-GLN-LYS-GLU-ILE-THR-ALA-LEU-ALA-PRO-SER-THR-MET-LYS-ILE-LYS-ILE-ILE-ALA-PRO-PRO-GLU-ARG-LYS-TYR-SER-VAL-TRP-ILE-GLY-GLY-SER-ILE-LEU-ALA-SER-LEU-SER-THR-PHE-GLN-GLN-MET-TRP-ILE-THR-LYS-GLN-GLU-TYR-ASP-GLU-ALA-GLY-PRO-SER-ILE-VAL-HIS-ARG-LYS-CYS-PHE'"
      ]
     },
     "execution_count": 26,
     "metadata": {},
     "output_type": "execute_result"
    }
   ],
   "source": [
    "seqs[\"bootcamp/data\\\\1J6Z\"]"
   ]
  },
  {
   "cell_type": "code",
   "execution_count": null,
   "metadata": {},
   "outputs": [],
   "source": [
    "%load_ext watermark\n",
    "%watermark -v -p jupyterlab"
   ]
  }
 ],
 "metadata": {
  "kernelspec": {
   "display_name": "Python 3",
   "language": "python",
   "name": "python3"
  },
  "language_info": {
   "codemirror_mode": {
    "name": "ipython",
    "version": 3
   },
   "file_extension": ".py",
   "mimetype": "text/x-python",
   "name": "python",
   "nbconvert_exporter": "python",
   "pygments_lexer": "ipython3",
   "version": "3.11.1"
  },
  "orig_nbformat": 4,
  "vscode": {
   "interpreter": {
    "hash": "8f3160b9f2a551ce90ccc7026cb49d07d18e13e4aea35536aea04f9df48ed40f"
   }
  }
 },
 "nbformat": 4,
 "nbformat_minor": 2
}
